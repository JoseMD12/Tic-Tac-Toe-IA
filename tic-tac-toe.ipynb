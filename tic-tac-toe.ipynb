{
 "cells": [
  {
   "cell_type": "markdown",
   "metadata": {},
   "source": [
    "## **Trabalho 1 de Inteligência Artificial**\n",
    "\n",
    "### **Objetivo**\n",
    "\n",
    "O objetivo deste trabalho é desenvolver um sistema de IA para classificar o estado de um tabuleiro de jogo da velha (Tic-Tac-Toe) em quatro categorias: \"Tem jogo\", \"Jogador X venceu\", \"Jogador O venceu\" ou \"Empate\".\n",
    "\n",
    "### **Estratégia**\n",
    " - ### Classificar dataset\n",
    "\n",
    "    Para classificar o dataset, foram usadas as características principais do jogo da velha. Consideramos que o jogador X sempre começou jogando e que o resultado é positivo caso X tenha ganhado. Foi alterado o label de positivo para \"X ganhou\". Para os resultados negativos (que poderiam ser empate, tem jogo ou O ganhou), foi calculado da seguinte forma:\n",
    "\n",
    "    - X Ganhou: Positivo\n",
    "    - Empate: Negativo, com o número de espaços vazios igual a 0.\n",
    "    - O Ganhou ou Tem jogo: Negativo, com a quantidade de X maior ou igual a 0 e espaços em branco maior que 0.\n",
    "\n",
    "  - ### Algoritmo de IA\n",
    "    Foi escolhido...\n",
    "     - \n",
    "\n"
   ]
  },
  {
   "cell_type": "markdown",
   "metadata": {},
   "source": [
    "<div style=\"color:#008FFF\">\n",
    "\n",
    "#### **Passo 1**\n",
    "\n",
    "</div>\n",
    "Leitura do Arquivo .data"
   ]
  },
  {
   "cell_type": "code",
   "execution_count": 22,
   "metadata": {},
   "outputs": [],
   "source": [
    "data = []\n",
    "with open(\"./dataset/tic-tac-toe.data\", \"r\") as data_file:\n",
    "    for line in data_file:\n",
    "        if line.strip() != \"\":\n",
    "            data.append(line.strip().split(\",\"))\n"
   ]
  },
  {
   "cell_type": "markdown",
   "metadata": {},
   "source": [
    "<div style=\"color:#008FFF\">\n",
    "\n",
    "#### **Passo 2**\n",
    "\n",
    "</div>\n",
    "Percorrer array com dados do dataset e classificá-los de acordo com as regras:\n",
    "\n",
    "- X Ganhou: Positivo\n",
    "- Empate: Negativo, com o número de espaços vazios igual a 0.\n",
    "- O Ganhou ou Tem jogo: Negativo, com a quantidade de X maior ou igual a 0 e espaços em branco maior que 0.\n",
    "\n",
    "Foi identificado que no dataset não havia registro de \"Tem Jogo\", ou jogo não decidido, então para os resultados O ganhou ou Tem Jogo, foi usado apenas o valor O Ganhou."
   ]
  },
  {
   "cell_type": "code",
   "execution_count": 23,
   "metadata": {},
   "outputs": [],
   "source": [
    "\n",
    "def rename_board_classes(board):\n",
    "    for row in board:\n",
    "        elements = row[:9]\n",
    "        label = row[9]\n",
    "        x_count = elements.count('x')\n",
    "        o_count = elements.count('o')\n",
    "        blank_count = elements.count('b')\n",
    "        \n",
    "        x_won = label == 'positive'\n",
    "        drawn = blank_count == 0\n",
    "        o_won_or_undecided = x_count >= o_count and not x_won and not drawn\n",
    "        \n",
    "        if(x_won):\n",
    "            row[9] = 'X Ganhou'\n",
    "        elif(drawn):\n",
    "            row[9] = 'Empate'\n",
    "        elif(o_won_or_undecided):\n",
    "            # reverse_row = ['o' if cell == 'x' else 'x' if cell == 'o' else cell for cell in row]\n",
    "            # reverse_row[9] = 'x_won'\n",
    "            # index_first_o = reverse_row.index('o')\n",
    "            # reverse_row[index_first_o] = 'b'\n",
    "            # print (row)\n",
    "            # print(reverse_row)\n",
    "                \n",
    "            # if (reverse_row in board) and (o_count == x_count):\n",
    "            row[9] = 'O Ganhou'\n",
    "            # else:\n",
    "            #     print (\"Undecided row found\")\n",
    "            #     row[9] = 'undecided'\n",
    "\n",
    "rename_board_classes(data)"
   ]
  },
  {
   "cell_type": "markdown",
   "metadata": {},
   "source": [
    "<div style=\"color:#008FFF\">\n",
    "\n",
    "#### **Passo 3**\n",
    "\n",
    "</div>\n",
    "\n",
    "Adicionar mais registro no dataset. Registros de Tem Jogo e Empate foram adicionados ao dataset por conta das escassez destes dados."
   ]
  },
  {
   "cell_type": "code",
   "execution_count": 24,
   "metadata": {},
   "outputs": [],
   "source": [
    "with open(\"./dados-adicionais/dados-extra.csv\", \"r\") as data_file:\n",
    "    for line in data_file:\n",
    "        if line.strip() != \"\":\n",
    "            dados = line.strip().split(\",\")\n",
    "            if dados not in data:\n",
    "                data.append(dados)\n",
    "                \n",
    "print(\"Número de linhas: \", len(data))  # Exibindo o número de linhas"
   ]
  }
 ],
 "metadata": {
  "kernelspec": {
   "display_name": "Python 3",
   "language": "python",
   "name": "python3"
  },
  "language_info": {
   "codemirror_mode": {
    "name": "ipython",
    "version": 3
   },
   "file_extension": ".py",
   "mimetype": "text/x-python",
   "name": "python",
   "nbconvert_exporter": "python",
   "pygments_lexer": "ipython3",
   "version": "3.12.2"
  }
 },
 "nbformat": 4,
 "nbformat_minor": 2
}
